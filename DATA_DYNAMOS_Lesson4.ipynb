{
 "cells": [
  {
   "cell_type": "markdown",
   "id": "019f9789-0a10-4ccf-b2c8-cbc0d4e31d0b",
   "metadata": {},
   "source": [
    "Comparing and Contrasting Different Data Structures , Format, and Mark Languages"
   ]
  },
  {
   "cell_type": "markdown",
   "id": "57c471b5-a34a-4628-92a2-f025d992e390",
   "metadata": {},
   "source": [
    "Here’s a practical Python application and real-world discussion for each of the following data structures: JSON, XML, CSV, YAML, and Pickle. "
   ]
  },
  {
   "cell_type": "raw",
   "id": "7e82a889-d6bc-4170-b196-87f3ff5e5c1f",
   "metadata": {},
   "source": [
    "JSON (JavaScript Object Notation)"
   ]
  },
  {
   "cell_type": "markdown",
   "id": "8964f796-f5fa-495f-922e-0f2b48aa7179",
   "metadata": {},
   "source": [
    "Practical Python Application:"
   ]
  },
  {
   "cell_type": "code",
   "execution_count": 18,
   "id": "13d90921-9680-4ed0-b060-fc6bdeadf1c5",
   "metadata": {},
   "outputs": [
    {
     "name": "stdout",
     "output_type": "stream",
     "text": [
      "JSON Data:\n",
      " {\n",
      "    \"Group_name\": \"Data Dynamos\",\n",
      "    \"role\": \"Data Engineer\",\n",
      "    \"experience\": 3,\n",
      "    \"skills\": [\n",
      "        \"Python\",\n",
      "        \"SQL\",\n",
      "        \"Data Visualization\"\n",
      "    ]\n",
      "}\n",
      "\n",
      "Data saved to 'data.json'.\n",
      "\n",
      "Loaded Data from file:\n",
      "{'Group_name': 'Data Dynamos', 'role': 'Data Engineer', 'experience': 3, 'skills': ['Python', 'SQL', 'Data Visualization']}\n",
      "\n",
      "Accessing Specific Data:\n",
      "Group_Name: Data Dynamos\n",
      "Skills: ['Python', 'SQL', 'Data Visualization']\n"
     ]
    }
   ],
   "source": [
    "import json\n",
    "\n",
    "# Creating a Python dictionary\n",
    "data = {\n",
    "    \"Group_name\": \"Data Dynamos\",\n",
    "\n",
    "      \"role\": \"Data Engineer\",\n",
    "    \"experience\": 3,\n",
    "    \"skills\": [\"Python\", \"SQL\", \"Data Visualization\"],\n",
    "    \n",
    "           \n",
    "}\n",
    "\n",
    "# Convert dictionary to JSON string\n",
    "json_data = json.dumps(data, indent=4)\n",
    "print(\"JSON Data:\\n\", json_data)\n",
    "\n",
    "# Save JSON data to a file\n",
    "with open(\"data.json\", \"w\") as file:\n",
    "    json.dump(data, file, indent=4)\n",
    "    print(\"\\nData saved to 'data.json'.\")\n",
    "\n",
    "# Reading JSON data from the file\n",
    "with open(\"data.json\", \"r\") as file:\n",
    "    loaded_data = json.load(file)\n",
    "    print(\"\\nLoaded Data from file:\")\n",
    "    print(loaded_data)\n",
    "\n",
    "# Accessing specific data\n",
    "print(\"\\nAccessing Specific Data:\")\n",
    "print(\"Group_Name:\", loaded_data[\"Group_name\"])\n",
    "print(\"Skills:\", loaded_data[\"skills\"])"
   ]
  },
  {
   "cell_type": "markdown",
   "id": "2049a7c8-3d2b-4de1-ac52-3fe2d0dd82b4",
   "metadata": {},
   "source": [
    " XML (eXtensible Markup Language)"
   ]
  },
  {
   "cell_type": "raw",
   "id": "8a8aeee6-487a-459b-9d89-4da6895ce689",
   "metadata": {},
   "source": [
    "Practical Python Application:"
   ]
  },
  {
   "cell_type": "code",
   "execution_count": 19,
   "id": "a581a56e-d3d1-4809-b239-45f4cb9f445d",
   "metadata": {},
   "outputs": [
    {
     "name": "stdout",
     "output_type": "stream",
     "text": [
      "Employee ID: 001\n",
      "Name: Khensani Kubayi\n",
      "Position: Data Engineer Intern\n",
      "Salary: 10000\n",
      "\n",
      "------------------------------\n",
      "Employee ID: 002\n",
      "Name: Lerato Motaung\n",
      "Position: Cyber Security Intern\n",
      "Salary: 12000\n",
      "\n",
      "------------------------------\n",
      "Employee ID: 003\n",
      "Name: Nozipo Ntiyo\n",
      "Position: Java Developer\n",
      "Salary: 30000\n",
      "\n",
      "------------------------------\n",
      "Employee ID: 004\n",
      "Name: Shamaine Mukithi\n",
      "Position: Computer Systems Analyst\n",
      "Salary: 40000\n",
      "\n",
      "------------------------------\n",
      "Employee ID: 005\n",
      "Name: Duncan Nukeri\n",
      "Position: BI Developer\n",
      "Salary: 20000\n",
      "\n",
      "------------------------------\n",
      "Employee ID: 006\n",
      "Name: Nomcebo Mkhwanazi\n",
      "Position: IT Manager\n",
      "Salary: 450000\n",
      "\n",
      "------------------------------\n"
     ]
    }
   ],
   "source": [
    "import xml.etree.ElementTree as ET\n",
    "\n",
    "# Your XML data\n",
    "xml_data = '''<?xml version=\"1.0\" encoding=\"UTF-8\"?>\n",
    "<employees>\n",
    "  <employee id=\"001\">\n",
    "    <name>Khensani Kubayi</name>\n",
    "    <position>Data Engineer Intern</position>\n",
    "    <salary>10000</salary>\n",
    "  </employee>\n",
    "  <employee id=\"002\">\n",
    "    <name>Lerato Motaung</name>\n",
    "    <position>Cyber Security Intern</position>\n",
    "    <salary>12000</salary>\n",
    "  </employee>\n",
    "  <employee id=\"003\">\n",
    "    <name>Nozipo Ntiyo</name>\n",
    "    <position>Java Developer</position>\n",
    "    <salary>30000</salary>\n",
    "  </employee>\n",
    "  <employee id=\"004\">\n",
    "    <name>Shamaine Mukithi</name>\n",
    "    <position>Computer Systems Analyst</position>\n",
    "    <salary>40000</salary>\n",
    "  </employee>\n",
    "  <employee id=\"005\">\n",
    "    <name>Duncan Nukeri</name>\n",
    "    <position>BI Developer</position>\n",
    "    <salary>20000</salary>\n",
    "  </employee>\n",
    "  <employee id=\"006\">\n",
    "    <name>Nomcebo Mkhwanazi</name>\n",
    "    <position>IT Manager</position>\n",
    "    <salary>450000</salary>\n",
    "  </employee>\n",
    "</employees>'''\n",
    "\n",
    "# Parse the XML data\n",
    "root = ET.fromstring(xml_data)\n",
    "\n",
    "# Iterate through each employee and print their details\n",
    "for employee in root.findall('employee'):\n",
    "    emp_id = employee.get('id')\n",
    "    name = employee.find('name').text\n",
    "    position = employee.find('position').text\n",
    "    salary = employee.find('salary').text\n",
    "    print(f\"Employee ID: {emp_id}\")\n",
    "    print(f\"Name: {name}\")\n",
    "    print(f\"Position: {position}\")\n",
    "    print(f\"Salary: {salary}\\n\")\n",
    "    print(\"-\" * 30)  # Separating the data\n"
   ]
  },
  {
   "cell_type": "markdown",
   "id": "c508c5a5-dfe3-4d06-9e93-8cf21bf64e5f",
   "metadata": {},
   "source": [
    "CSV (Comma-Separated Values)"
   ]
  },
  {
   "cell_type": "markdown",
   "id": "f90c5432-3185-4ea1-8fa1-3bc238848cf8",
   "metadata": {},
   "source": [
    "Practical Python Application:"
   ]
  },
  {
   "cell_type": "raw",
   "id": "cf1d54cd-f888-4aee-b7c8-6d9eac000cd6",
   "metadata": {},
   "source": [
    "Example: A CSV file containing employee data:"
   ]
  },
  {
   "cell_type": "code",
   "execution_count": 20,
   "id": "f21fd877-4878-4d1d-8166-e318dd9b8524",
   "metadata": {},
   "outputs": [
    {
     "name": "stdout",
     "output_type": "stream",
     "text": [
      "['Full Name', 'Employee_ID', 'Position', 'Company Name']\n",
      "['Lerato Motaung', '3912', 'Data Analyst', 'Standard Bank']\n",
      "['Duncan Nukeri', '8546', 'Data Engineer', 'FNB']\n",
      "['Shamaine Mukithi', '8715', 'Computer System Analyst', 'Nedbank']\n",
      "['Khensani Kubayi', '2658', 'Database Administrator', 'Absa']\n",
      "['Nozipho Ntiyo', '4565', 'Data Scientist', 'Capitec']\n",
      "['Nomcebo Mkhwanazi', '2923', 'Data Engineer', 'Absa']\n"
     ]
    }
   ],
   "source": [
    "import csv\n",
    "\n",
    "# Writing to CSV\n",
    "data = [[\"Full Name\", \"Employee_ID\",\"Position\", \"Company Name\",], [\"Lerato Motaung\", 3912, \"Data Analyst\", \"Standard Bank\"], [\"Duncan Nukeri\", 8546, \"Data Engineer\", \"FNB\"], [\"Shamaine Mukithi\", 8715, \"Computer System Analyst\", \"Nedbank\"], [\"Khensani Kubayi\", 2658, \"Database Administrator\", \"Absa\"], [\"Nozipho Ntiyo\", 4565, \"Data Scientist\", \"Capitec\"], [\"Nomcebo Mkhwanazi\", 2923, \"Data Engineer\", \"Absa\"]]\n",
    "with open(\"data.csv\", mode=\"w\", newline=\"\") as file:\n",
    "    writer = csv.writer(file)\n",
    "    writer.writerows(data)\n",
    "\n",
    "# Reading from CSV\n",
    "with open(\"data.csv\", mode=\"r\") as file:\n",
    "    reader = csv.reader(file)\n",
    "    for row in reader:\n",
    "        print(row)"
   ]
  },
  {
   "cell_type": "markdown",
   "id": "2a932ec2-4848-40a2-a6ce-9bf178733b84",
   "metadata": {},
   "source": [
    "YAML (YAML Ain't Markup Language)"
   ]
  },
  {
   "cell_type": "code",
   "execution_count": 21,
   "id": "472ac2d1-53a6-4f9f-bf6b-ff2f895ab859",
   "metadata": {},
   "outputs": [
    {
     "name": "stdout",
     "output_type": "stream",
     "text": [
      "Requirement already satisfied: pyaml in c:\\users\\sebalamakgolo3\\anaconda4\\lib\\site-packages (24.9.0)\n",
      "Requirement already satisfied: PyYAML in c:\\users\\sebalamakgolo3\\anaconda4\\lib\\site-packages (from pyaml) (6.0.1)\n",
      "Note: you may need to restart the kernel to use updated packages.\n"
     ]
    }
   ],
   "source": [
    "pip install pyaml"
   ]
  },
  {
   "cell_type": "code",
   "execution_count": 22,
   "id": "509defdb-02d2-46e7-8d5c-99007b67b7ba",
   "metadata": {},
   "outputs": [
    {
     "name": "stdout",
     "output_type": "stream",
     "text": [
      "Name: PyYAML\n",
      "Version: 6.0.1\n",
      "Summary: YAML parser and emitter for Python\n",
      "Home-page: https://pyyaml.org/\n",
      "Author: Kirill Simonov\n",
      "Author-email: xi@resolvent.net\n",
      "License: MIT\n",
      "Location: C:\\Users\\SEBALAMAKGOLO3\\anaconda4\\Lib\\site-packages\n",
      "Requires: \n",
      "Required-by: anaconda-client, astropy, bokeh, conda-build, conda-repo-cli, cookiecutter, dask, distributed, intake, jupyter-events, pyaml\n",
      "Note: you may need to restart the kernel to use updated packages.\n"
     ]
    }
   ],
   "source": [
    "pip show pyyaml"
   ]
  },
  {
   "cell_type": "code",
   "execution_count": 23,
   "id": "1f402b57-9283-4bd1-bfe9-612bff3a2b7b",
   "metadata": {},
   "outputs": [
    {
     "name": "stdout",
     "output_type": "stream",
     "text": [
      "Age in Years: '26'\n",
      "Country of Residence: South Africa\n",
      "Full Name: Duncan Nukeri\n",
      "Job Title: Data Engineer\n",
      "Professional Background:\n",
      "  GitHub Profile: Software Engineer\n",
      "  Google Workspace: Technical Engineer\n",
      "  LinkedIn Profile: Data Analyst\n",
      "Skills:\n",
      "  Markup Languages:\n",
      "  - HTML\n",
      "  Programming Languages:\n",
      "  - Python\n",
      "  - JavaScript\n",
      "  - Golang\n",
      "\n"
     ]
    }
   ],
   "source": [
    "import yaml\n",
    "\n",
    "# Dictionary representing personal details and professional experience\n",
    "profile_info = {\n",
    "    'Full Name': 'Duncan Nukeri',\n",
    "    'Job Title': 'Data Engineer',\n",
    "    'Country of Residence': 'South Africa',\n",
    "    'Age in Years': '25',\n",
    "    \n",
    "    # Work experience across multiple platforms\n",
    "    'Professional Background': {\n",
    "        'GitHub Profile': 'Software Engineer',\n",
    "        'Google Workspace': 'Technical Engineer',\n",
    "        'LinkedIn Profile': 'Data Analyst'\n",
    "    },\n",
    "\n",
    "    # Programming languages and markup skills\n",
    "    'Skills': {\n",
    "        'Markup Languages': ['HTML'],\n",
    "        'Programming Languages': ['Python', 'JavaScript', 'Golang']\n",
    "    }\n",
    "}\n",
    "\n",
    "# Dump the dictionary into a YAML formatted string\n",
    "yaml_string = yaml.dump(profile_info, default_flow_style=False)\n",
    "\n",
    "# Print the YAML formatted string\n",
    "print(yaml_string)\n"
   ]
  },
  {
   "cell_type": "markdown",
   "id": "59581041-eac6-45a5-a202-f1ab527241fa",
   "metadata": {},
   "source": [
    " Pickle (Python Object Serialization)"
   ]
  },
  {
   "cell_type": "raw",
   "id": "f409be55-5fe3-47a4-b22f-a600b6de4881",
   "metadata": {},
   "source": [
    "In this scenario, let's say we process some data — for example, performing basic analysis on a dataset (e.g., calculating the average age of my group members ). We can then serialize the processed result for future use."
   ]
  },
  {
   "cell_type": "code",
   "execution_count": 16,
   "id": "65f804d2-f62b-4b3b-9dea-b79bdb544c47",
   "metadata": {},
   "outputs": [
    {
     "name": "stdout",
     "output_type": "stream",
     "text": [
      "Average age has been pickled.\n"
     ]
    }
   ],
   "source": [
    "\n",
    "import pickle\n",
    "\n",
    "# Processed data (average age)\n",
    "people = [\n",
    "    {\"name\": \"Cebo\", \"age\": 22},\n",
    "    {\"name\": \"Lerato\", \"age\": 18},\n",
    "    {\"name\": \"Nozipo\", \"age\": 28},\n",
    "    {\"name\": \"Khensani\", \"age\":23},\n",
    "    {\"name\": \"Shamaine\", \"age\":29},\n",
    "    {\"name\": \"Duncan\", \"age\":25}\n",
    "]\n",
    "\n",
    "# Calculate the average age\n",
    "average_age = sum(person[\"age\"] for person in people) / len(people)\n",
    "\n",
    "# Serialize the result (average_age)\n",
    "with open(\"average_age.pkl\", \"wb\") as file:\n",
    "    pickle.dump(average_age, file)\n",
    "\n",
    "print(\"Average age has been pickled.\")\n"
   ]
  },
  {
   "cell_type": "code",
   "execution_count": 17,
   "id": "98e6f596-0159-4092-a642-4392479597bf",
   "metadata": {},
   "outputs": [
    {
     "name": "stdout",
     "output_type": "stream",
     "text": [
      "Loaded average age: 24.166666666666668\n"
     ]
    }
   ],
   "source": [
    "import pickle\n",
    "\n",
    "# Load the pickled result (average age)\n",
    "with open(\"average_age.pkl\", \"rb\") as file:\n",
    "    loaded_average_age = pickle.load(file)\n",
    "\n",
    "print(\"Loaded average age:\", loaded_average_age)\n"
   ]
  },
  {
   "cell_type": "code",
   "execution_count": null,
   "id": "437055f6-9a8b-48d6-a128-5b0760bae3a7",
   "metadata": {},
   "outputs": [],
   "source": []
  }
 ],
 "metadata": {
  "kernelspec": {
   "display_name": "Python 3 (ipykernel)",
   "language": "python",
   "name": "python3"
  },
  "language_info": {
   "codemirror_mode": {
    "name": "ipython",
    "version": 3
   },
   "file_extension": ".py",
   "mimetype": "text/x-python",
   "name": "python",
   "nbconvert_exporter": "python",
   "pygments_lexer": "ipython3",
   "version": "3.12.4"
  }
 },
 "nbformat": 4,
 "nbformat_minor": 5
}
